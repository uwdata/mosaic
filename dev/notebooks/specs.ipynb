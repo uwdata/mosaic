{
 "cells": [
  {
   "cell_type": "code",
   "execution_count": 1,
   "id": "93103597-996b-46ec-9804-63164b775896",
   "metadata": {
    "tags": []
   },
   "outputs": [],
   "source": [
    "import duckdb\n",
    "import yaml\n",
    "from mosaic_widget import MosaicWidget\n",
    "import ipywidgets as widgets\n",
    "import pyarrow as pa"
   ]
  },
  {
   "cell_type": "code",
   "execution_count": 2,
   "id": "ed9edb9e-4ed2-4e5e-b44c-81a2c7a73af4",
   "metadata": {
    "tags": []
   },
   "outputs": [],
   "source": [
    "# Optional: enable logging in Mosaic widget\n",
    "import logging\n",
    "logging.basicConfig(level=logging.INFO)"
   ]
  },
  {
   "cell_type": "code",
   "execution_count": 3,
   "id": "1cf65425-1df5-41d3-b020-d2b713559c87",
   "metadata": {
    "tags": []
   },
   "outputs": [],
   "source": [
    "def load_arrow(con, path, table):\n",
    "    with pa.memory_map(path) as source:\n",
    "        my_arrow = pa.ipc.open_stream(source).read_all()\n",
    "        con.execute(f\"CREATE TABLE {table} AS FROM my_arrow\")\n",
    "        \n",
    "def load_csv(con, path, table):\n",
    "    con.execute(f\"CREATE TABLE {table} AS FROM read_csv_auto('{path}')\")"
   ]
  },
  {
   "cell_type": "code",
   "execution_count": 4,
   "id": "5f46684a-5a00-4db2-9a1e-7b394a84fc21",
   "metadata": {
    "tags": []
   },
   "outputs": [],
   "source": [
    "con = duckdb.connect()\n",
    "load_arrow(con, \"../../data/flights-200k.arrow\", \"flights\")\n",
    "load_arrow(con, \"../../data/random-walk.arrow\", \"walk\")\n",
    "load_csv(con, \"../../data/penguins.csv\", \"penguins\")\n",
    "load_csv(con, \"../../data/athletes.csv\", \"athletes\")\n",
    "load_csv(con, \"../../data/seattle-weather.csv\", \"weather\")"
   ]
  },
  {
   "cell_type": "code",
   "execution_count": 5,
   "id": "4da7f0fd-ec48-4ca9-b927-cbf9b0a5d8b8",
   "metadata": {
    "tags": []
   },
   "outputs": [],
   "source": [
    "mosaic = MosaicWidget(con=con)"
   ]
  },
  {
   "cell_type": "code",
   "execution_count": 6,
   "id": "211e4826-c2c6-4af2-a46f-1786d4600c73",
   "metadata": {},
   "outputs": [],
   "source": [
    "dropdown = widgets.Dropdown(\n",
    "    options=[(\"Athletes\", \"athletes\"), (\"Cross-Filter\", \"cross-filter\"), (\"Density 1D\", \"density1d\"), (\"Facets\", \"facets\"),\n",
    "             (\"Flights 10M\", \"flights-10m\"), (\"Gaia Star Catalog\", \"gaia\"), (\"Hexbin\", \"hexbin\"), (\"Mark Gallery\", \"marks\"),\n",
    "             (\"Line Density\", \"line-density\"), (\"Pan + Zoom\", \"pan-zoom\"), (\"Regression\", \"regression\"), (\"Seattle Weather\", \"weather\")],\n",
    "    value=\"weather\",\n",
    "    description=\"Spec:\"\n",
    ")\n",
    "\n",
    "def on_change(change):\n",
    "    open_spec(change[\"new\"])\n",
    "\n",
    "def open_spec(spec):\n",
    "    with open(f\"../specs/{spec}.yaml\") as f:\n",
    "        mosaic.spec = yaml.safe_load(f)\n",
    "\n",
    "dropdown.observe(on_change, \"value\")\n",
    "\n",
    "open_spec(\"weather\")"
   ]
  },
  {
   "cell_type": "code",
   "execution_count": 8,
   "id": "d192b9ff-2592-4683-b22d-b87994196379",
   "metadata": {
    "tags": []
   },
   "outputs": [
    {
     "data": {
      "application/vnd.jupyter.widget-view+json": {
       "model_id": "c8ef71fbc2774b019b1a59c92dd18fa3",
       "version_major": 2,
       "version_minor": 0
      },
      "text/plain": [
       "VBox(children=(Dropdown(description='Spec:', index=11, options=(('Athletes', 'athletes'), ('Cross-Filter', 'cr…"
      ]
     },
     "execution_count": 8,
     "metadata": {},
     "output_type": "execute_result"
    }
   ],
   "source": [
    "widgets.VBox([dropdown, mosaic])"
   ]
  },
  {
   "cell_type": "code",
   "execution_count": null,
   "id": "d2e181eb-d311-4bc0-8ffd-3d3db5600729",
   "metadata": {},
   "outputs": [],
   "source": []
  }
 ],
 "metadata": {
  "kernelspec": {
   "display_name": "mosaic",
   "language": "python",
   "name": "mosaic"
  },
  "language_info": {
   "codemirror_mode": {
    "name": "ipython",
    "version": 3
   },
   "file_extension": ".py",
   "mimetype": "text/x-python",
   "name": "python",
   "nbconvert_exporter": "python",
   "pygments_lexer": "ipython3",
   "version": "3.10.4"
  }
 },
 "nbformat": 4,
 "nbformat_minor": 5
}

{
 "cells": [
  {
   "cell_type": "code",
   "execution_count": null,
   "id": "93103597-996b-46ec-9804-63164b775896",
   "metadata": {
    "tags": []
   },
   "outputs": [],
   "source": [
    "import duckdb\n",
    "import yaml\n",
    "from mosaic_widget import MosaicWidget\n",
    "import ipywidgets as widgets\n",
    "from pprint import pprint"
   ]
  },
  {
   "cell_type": "code",
   "execution_count": null,
   "id": "ed9edb9e-4ed2-4e5e-b44c-81a2c7a73af4",
   "metadata": {
    "tags": []
   },
   "outputs": [],
   "source": [
    "# Optional: enable logging in Mosaic widget\n",
    "import logging\n",
    "logging.basicConfig(level=logging.INFO)"
   ]
  },
  {
   "cell_type": "code",
   "execution_count": null,
   "id": "71be7064-deb8-4b5e-b86c-7c73c86220cf",
   "metadata": {},
   "outputs": [],
   "source": [
    "# Change working directory to mosaic root\n",
    "%cd ../.."
   ]
  },
  {
   "cell_type": "code",
   "execution_count": null,
   "id": "5f46684a-5a00-4db2-9a1e-7b394a84fc21",
   "metadata": {
    "tags": []
   },
   "outputs": [],
   "source": [
    "con = duckdb.connect()\n",
    "con.execute(\"LOAD httpfs\");"
   ]
  },
  {
   "cell_type": "code",
   "execution_count": null,
   "id": "4da7f0fd-ec48-4ca9-b927-cbf9b0a5d8b8",
   "metadata": {
    "tags": []
   },
   "outputs": [],
   "source": [
    "mosaic = MosaicWidget(con=con)"
   ]
  },
  {
   "cell_type": "code",
   "execution_count": null,
   "id": "211e4826-c2c6-4af2-a46f-1786d4600c73",
   "metadata": {
    "tags": []
   },
   "outputs": [],
   "source": [
    "dropdown = widgets.Dropdown(\n",
    "    options=[\n",
    "        (\"Athletes\", \"athletes\"),\n",
    "        (\"Bias Parameter\", \"bias\"),\n",
    "        (\"Contours\", \"contours\"),\n",
    "        (\"Density 1D\", \"density1d\"),\n",
    "        (\"Density 2D\", \"density2d\"),\n",
    "        (\"Axes & Gridlines\", \"axes\"),\n",
    "        (\"Earthquakes\", \"earthquakes\"),\n",
    "        (\"Flights Density\", \"flights-density\"),\n",
    "        (\"Flights\", \"flights\"),\n",
    "        (\"Flights 10M\", \"flights-10m\"),\n",
    "        (\"Gaia Star Catalog\", \"gaia\"),\n",
    "        (\"Hexbin\", \"hexbin\"),\n",
    "        (\"Images\", \"images\"),\n",
    "        (\"Links\", \"links\"),\n",
    "        (\"Line Density\", \"line-density\"),\n",
    "        (\"Mark Types\", \"marks\"),\n",
    "        (\"Moving Average\", \"moving-average\"),\n",
    "        (\"Normalize Stocks\", \"normalize\"),\n",
    "        (\"Overview + Detail\", \"overview-detail\"),\n",
    "        (\"Pan + Zoom\", \"pan-zoom\"),\n",
    "        (\"Regression\", \"regression\"),\n",
    "        (\"Scatter Plot Matrix\", \"splom\"),\n",
    "        (\"Seattle Weather\", \"weather\"),\n",
    "        (\"Symbols\", \"symbols\"),\n",
    "        (\"Table\", \"table\"),\n",
    "        (\"Voronoi\", \"voronoi\"),\n",
    "        (\"Wind Map\", \"wind-map\")\n",
    "    ],\n",
    "    value=\"weather\",\n",
    "    description=\"Example:\"\n",
    ")\n",
    "\n",
    "def on_change(change):\n",
    "    open_spec(change[\"new\"])\n",
    "\n",
    "def open_spec(spec):\n",
    "    with open(f\"dev/yaml/{spec}.yaml\") as f:\n",
    "        mosaic.spec = yaml.safe_load(f)\n",
    "\n",
    "dropdown.observe(on_change, \"value\")\n",
    "\n",
    "open_spec(\"weather\")\n",
    "\n",
    "output = widgets.Output()\n",
    "\n",
    "@output.capture(clear_output=True)\n",
    "def handle_change(change):\n",
    "    pprint(change.new)\n",
    "\n",
    "mosaic.observe(handle_change, names=[\"selections\"])"
   ]
  },
  {
   "cell_type": "code",
   "execution_count": null,
   "id": "d192b9ff-2592-4683-b22d-b87994196379",
   "metadata": {
    "tags": []
   },
   "outputs": [],
   "source": [
    "widgets.VBox([dropdown, mosaic, output])"
   ]
  }
 ],
 "metadata": {
  "kernelspec": {
   "display_name": "mosaic",
   "language": "python",
   "name": "mosaic"
  },
  "language_info": {
   "codemirror_mode": {
    "name": "ipython",
    "version": 3
   },
   "file_extension": ".py",
   "mimetype": "text/x-python",
   "name": "python",
   "nbconvert_exporter": "python",
   "pygments_lexer": "ipython3",
   "version": "3.10.11"
  }
 },
 "nbformat": 4,
 "nbformat_minor": 5
}
